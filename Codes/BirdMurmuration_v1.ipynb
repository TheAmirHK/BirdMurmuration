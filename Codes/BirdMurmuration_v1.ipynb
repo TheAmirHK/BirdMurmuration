{
  "nbformat": 4,
  "nbformat_minor": 0,
  "metadata": {
    "colab": {
      "provenance": [],
      "authorship_tag": "ABX9TyNUpe7Fge3yzfP46Nro84GH",
      "include_colab_link": true
    },
    "kernelspec": {
      "name": "python3",
      "display_name": "Python 3"
    },
    "language_info": {
      "name": "python"
    }
  },
  "cells": [
    {
      "cell_type": "markdown",
      "metadata": {
        "id": "view-in-github",
        "colab_type": "text"
      },
      "source": [
        "<a href=\"https://colab.research.google.com/github/TheAmirHK/BirdMurmuration/blob/main/BirdMurmuration_v1.ipynb\" target=\"_parent\"><img src=\"https://colab.research.google.com/assets/colab-badge.svg\" alt=\"Open In Colab\"/></a>"
      ]
    },
    {
      "cell_type": "code",
      "execution_count": null,
      "metadata": {
        "id": "XOO3xeYHDsva"
      },
      "outputs": [],
      "source": [
        "\"\"\"\n",
        "Created on Fri Dec 13 12:00:40 2024\n",
        "\n",
        "@author: amirh\n",
        "\"\"\"\n",
        "import os\n",
        "import numpy as np\n",
        "import gymnasium as gym\n",
        "import matplotlib.pyplot as plt\n",
        "import matplotlib.animation as animation\n",
        "from mpl_toolkits.mplot3d import Axes3D\n",
        "from gymnasium import spaces\n",
        "from stable_baselines3 import PPO\n",
        "import imageio"
      ]
    },
    {
      "cell_type": "code",
      "source": [
        "# In[Enviroenment]\n",
        "class MurmurationEnv(gym.Env):\n",
        "    def __init__(self, num_birds=5):\n",
        "        super(MurmurationEnv, self).__init__()\n",
        "        self.num_birds = num_birds\n",
        "        self.observation_space = spaces.Box(low=-1, high=1, shape=(num_birds * 6,), dtype=np.float32)\n",
        "        self.action_space = spaces.Box(low=-1, high=1, shape=(num_birds * 3,), dtype=np.float32)\n",
        "        self.frames = []\n",
        "        self.frame_dir = \"frames\"\n",
        "        os.makedirs(self.frame_dir, exist_ok=True)\n",
        "        self.frame_count = 0\n",
        "        self.reset()\n",
        "        self.steps = 0\n",
        "        self.max_steps = 1000\n",
        "\n",
        "    def reset(self, seed=None, options=None):\n",
        "        self.positions = np.random.uniform(-1, 1, (self.num_birds, 3))\n",
        "        self.velocities = np.random.uniform(-0.1, 0.1, (self.num_birds, 3))\n",
        "        self.steps = 0\n",
        "        return self._get_obs(), {}\n",
        "\n",
        "# flocking behavior avoids collisions, maintain neighbors’ velocities and moves toward the center.\n",
        "    def _flocking_rules(self):\n",
        "        for i in range(self.num_birds):\n",
        "            neighbors = [j for j in range(self.num_birds) if j != i]\n",
        "            if not neighbors:\n",
        "                continue\n",
        "\n",
        "            # avoids collisions\n",
        "            separation = np.sum([self.positions[i] - self.positions[j] for j in neighbors if np.linalg.norm(self.positions[i] - self.positions[j]) < 0.2], axis=0, initial=0)\n",
        "\n",
        "            # maintain neighbors’ velocities\n",
        "            alignment = np.mean([self.velocities[j] for j in neighbors], axis=0) - self.velocities[i]\n",
        "\n",
        "            # moves toward the center\n",
        "            center_of_mass = np.mean([self.positions[j] for j in neighbors], axis=0)\n",
        "            cohesion = center_of_mass - self.positions[i]\n",
        "\n",
        "\n",
        "            self.velocities[i] += 0.01 * (separation + alignment + cohesion)\n",
        "\n",
        "    def _calculate_reward(self):\n",
        "        alignment_reward = np.mean(np.linalg.norm(np.mean(self.velocities, axis=0) - self.velocities, axis=1))\n",
        "        cohesion_reward = -np.mean(np.linalg.norm(self.positions - np.mean(self.positions, axis=0), axis=1))\n",
        "        return alignment_reward + cohesion_reward\n",
        "\n",
        "    def step(self, action):\n",
        "        self.steps += 1\n",
        "\n",
        "        action = action.reshape((self.num_birds, 3))\n",
        "        self.velocities += action * 0.1  # velocity\n",
        "        self.velocities = np.clip(self.velocities, -0.1, 0.1)\n",
        "        self.positions += self.velocities  # change position\n",
        "\n",
        "        self._flocking_rules()\n",
        "\n",
        "        # reward system\n",
        "        reward = self._calculate_reward()\n",
        "        done = bool(self.steps >= self.max_steps)\n",
        "        print(self.steps)\n",
        "        return self._get_obs(), reward, done, False, {}\n",
        "\n",
        "    def _get_obs(self):\n",
        "        return np.concatenate([self.positions.flatten(), self.velocities.flatten()], dtype=np.float32)\n",
        "\n",
        "    def render(self):\n",
        "        fig, axes = plt.subplots(1, 2, subplot_kw={'projection': '3d'}, figsize=(10, 5))\n",
        "        rotations = [(15, 15), (45, 45)]\n",
        "\n",
        "        for ax, (elev, azim) in zip(axes, rotations):\n",
        "            ax.scatter(self.positions[:, 0], self.positions[:, 1], self.positions[:, 2], c='black')\n",
        "            ax.set_xlim(-3, 3)\n",
        "            ax.set_ylim(-3, 3)\n",
        "            ax.set_zlim(-3, 3)\n",
        "            ax.view_init(elev=elev, azim=azim)\n",
        "\n",
        "        frame_path = os.path.join(self.frame_dir, f\"frame_{self.frame_count:04d}.png\")\n",
        "        plt.savefig(frame_path)\n",
        "        self.frame_count += 1\n",
        "        plt.close(fig)\n",
        "\n",
        "    def save_animation(self, filename=\"murmuration.gif\"):\n",
        "        images = []\n",
        "        for i in range(self.frame_count):\n",
        "            img_path = os.path.join(self.frame_dir, f\"frame_{i:04d}.png\")\n",
        "            images.append(imageio.imread(img_path))\n",
        "        imageio.mimsave(filename, images, fps=10)"
      ],
      "metadata": {
        "id": "TAu4xLCtDttQ"
      },
      "execution_count": null,
      "outputs": []
    },
    {
      "cell_type": "code",
      "source": [
        "# In[Train]\n",
        "env = MurmurationEnv(num_birds=200)\n",
        "model = PPO(\"MlpPolicy\", env, verbose=1)\n",
        "model.learn(total_timesteps=5000)"
      ],
      "metadata": {
        "id": "McMQ8fWwDyaO"
      },
      "execution_count": null,
      "outputs": []
    },
    {
      "cell_type": "code",
      "source": [
        "# In[Test]\n",
        "obs, _ = env.reset()\n",
        "print(\"Test started ...\")\n",
        "for _ in range(500):\n",
        "    action, _ = model.predict(obs)\n",
        "    obs, _, done, _, _ = env.step(action)\n",
        "    env.render()\n",
        "    if done:\n",
        "        break\n",
        "env.close()"
      ],
      "metadata": {
        "id": "d8fXprnqD0P3"
      },
      "execution_count": null,
      "outputs": []
    },
    {
      "cell_type": "code",
      "source": [
        "# In[Save animation]\n",
        "env.save_animation(\"murmuration.gif\")"
      ],
      "metadata": {
        "id": "fHTn9MvaD1Rv"
      },
      "execution_count": null,
      "outputs": []
    }
  ]
}
